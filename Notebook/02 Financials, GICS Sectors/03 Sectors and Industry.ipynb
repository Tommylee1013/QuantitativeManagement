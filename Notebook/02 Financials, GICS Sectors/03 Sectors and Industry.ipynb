{
 "cells": [
  {
   "metadata": {},
   "cell_type": "markdown",
   "source": [
    "## Sectors and Industry\n",
    "\n",
    "금융시장에서 섹터(Sector)와 업종(Industry / Sub-Industry)은 자산을 구조적으로 이해하고 포트폴리오를 설계하는 기본 단위다. 글로벌 표준인 GICS(산업분류체계)는 큰 범주의 Sector → Industry Group → Industry → Sub-Industry 계층을 제공하여 동일한 경제적 활동을 하는 기업들을 묶어주며, 한국시장에서는 KRX의 섹터 분류가 GICS 섹터의 분류를 참고하여 제작되었는데, 로컬 산업구조와 정책·규제 특성을 더 잘 반영하는 경우가 있어 연구 목적에 따라 둘을 병행해 사용한다. \n",
    "\n",
    "한편 테마(Theme) 투자는 기술(예: AI), 환경(ESG), 공급망 같은 횡단적 주제에 따라 섹터·업종 경계를 넘어선 노출을 구성하므로 이벤트 드리븐 전략에서 자주 활용한다. 포트폴리오 집계 방식에서는 동일가중(Equal-weighted)이 대형주 집중을 완화해 섹터 내 분산효과를 키우지만 리밸런싱 비용과 회전율이 커지는 반면, 시가총액가중(Market-weighted)은 시가총액에 비례해 시장노출을 자연스럽게 반영하고 거래비용이 낮아 인덱스 추종에 적합하다. 따라서 실무와 연구에서는 (1) 사용하려는 분류체계(GICS vs KRX), (2) 테마의 정의 및 구성 규칙, (3) 가중치 방식(Equal vs Market), (4) 리밸런싱 빈도·거래비용·유동성 제약을 함께 고려해 실험설계와 해석을 일관되게 맞추는 것이 중요하다.\n",
    "\n",
    "이번 장에서는 섹터의 종류와 특성을 이해하는 것을 목표로 한다."
   ],
   "id": "6a54be517dbf9c88"
  },
  {
   "metadata": {},
   "cell_type": "markdown",
   "source": [
    "### 1. GICS Sectors\n",
    "\n",
    "GICS(Global Industry Classification Standard)는 기업을 동일한 경제적 활동을 하는 그룹으로 체계화하기 위한 글로벌 분류체계다. 최상위 레벨은 Sector이고 그 아래에 Industry Group → Industry → Sub-Industry 순으로 세분화되어 있다. \n",
    "\n",
    "현재 GICS는 11개 섹터(예: Energy, Materials, Industrials, Consumer Discretionary, Consumer Staples, Health Care, Financials, Information Technology, Communication Services, Utilities, Real Estate)로 구성되어 있어 전세계 시장과 자산을 동일한 기준으로 비교·분석할 수 있게 해준다. 연구자와 포트폴리오 매니저는 GICS를 사용해 섹터별 성과, 리스크 분해, 섹터 중립 전략 등을 구현하고 벤치마크와의 일관된 비교를 수행한다. 각 섹터별 표준 티커는 다음과 같다.\n",
    "\n",
    "\n",
    "| sector                 | ticker  | alias | description                                      |\n",
    "|:-----------------------|:--------|:-----:|:-------------------------------------------------|\n",
    "| Energy                 | ^GSPE   |  ENE  | SP500-10으로도 사용하기도 함. 에너지 생산 기업 집합. 지정학적 리스크 및 달러가치에 민감하게 반응 |\n",
    "| Materials              | ^SP500-15|  MAT  | 소재생산 기업의 집합                                      |\n",
    "| Industrials            |^SP500-20|  IND  | 산업재, 산업 관련 종목의 집합                                |\n",
    "| Consumer Discretionary |^SP500-25|  COD  | 사치재, 경제재 생산 기업의 집합                               |\n",
    "| Consumer Staples       |^SP500-30|  COS  | 필수소비재 생산 기업의 집합. 경기 침체 국면에서 주가 방어의 경향 존재         |\n",
    "| Health Care Services   |^SP500-35|  HCS  | 의료, 건강 관련 기업의 집합. 금리가 낮은 국면에서 주가가 상승하는 경향 존재     |\n",
    "| Financials|^SP500-40|FIN| 금융 산업과 관련된 기업의 집합. 경기변화에 굉장히 민감. 금리 변동이 기업의 할인율과 밀접히 연결됨 |\n",
    "|Information Technology|^SP500-45|INT| 반도체 제조업, 파운드리, 스마트폰 제조 등 지식기반 산업과 정보산업을 주로 하는 기업의 집합.기술의 발전으로 상승률이 가장 높은 섹터임 |\n",
    "|Communication Services|^SP500-50|COS| 소셜 서비스, 통신, 언론 등의 인간 간 커뮤니케이션 관련 사업을 주로 하는 기업의 집합|\n",
    "|Utilities|^SP500-55|UTL|유틸리티 관련 사업을 주로 하는 기업의 집합|\n",
    "|Real Estate|^SP500-60|RES|부동산 관련 입대업, 금융업, 신탁 등의 사업을 영위하는 기업의 집합|"
   ],
   "id": "f752a211ba41c3d1"
  },
  {
   "cell_type": "code",
   "execution_count": null,
   "id": "initial_id",
   "metadata": {
    "collapsed": true
   },
   "outputs": [],
   "source": [
    "import numpy as np\n",
    "import pandas as pd"
   ]
  }
 ],
 "metadata": {
  "kernelspec": {
   "display_name": "Python 3",
   "language": "python",
   "name": "python3"
  },
  "language_info": {
   "codemirror_mode": {
    "name": "ipython",
    "version": 2
   },
   "file_extension": ".py",
   "mimetype": "text/x-python",
   "name": "python",
   "nbconvert_exporter": "python",
   "pygments_lexer": "ipython2",
   "version": "2.7.6"
  }
 },
 "nbformat": 4,
 "nbformat_minor": 5
}
