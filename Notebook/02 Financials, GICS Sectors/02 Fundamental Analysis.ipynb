{
 "cells": [
  {
   "metadata": {},
   "cell_type": "markdown",
   "source": [
    "## Fundamental Analysis\n",
    "\n",
    "Fundamental Analysis(기초적 분석)는 기업의 내재가치(intrinsic value)를 재무정보와 비재무적 요인을 통해 추정하고, 현재 시장가격과 비교하여 저평가/고평가 여부를 판단하는 분석방법이다. 주된 목적은 투자대상(주식, 채권 등)이 장기적으로 창출할 미래현금흐름과 리스크를 고려했을 때 합리적인 가격인지 판단하는 데 있다. 재무제표(손익계산서·대차대조표·현금흐름표), 산업구조, 거시환경, 경영진 질, 경쟁우위(Moat) 등을 통합적으로 분석한다."
   ],
   "id": "7dc5efad51bec206"
  },
  {
   "metadata": {},
   "cell_type": "code",
   "outputs": [],
   "execution_count": null,
   "source": "",
   "id": "767240cb9a6e4c8b"
  }
 ],
 "metadata": {
  "kernelspec": {
   "display_name": "Python 3",
   "language": "python",
   "name": "python3"
  },
  "language_info": {
   "codemirror_mode": {
    "name": "ipython",
    "version": 2
   },
   "file_extension": ".py",
   "mimetype": "text/x-python",
   "name": "python",
   "nbconvert_exporter": "python",
   "pygments_lexer": "ipython2",
   "version": "2.7.6"
  }
 },
 "nbformat": 4,
 "nbformat_minor": 5
}
