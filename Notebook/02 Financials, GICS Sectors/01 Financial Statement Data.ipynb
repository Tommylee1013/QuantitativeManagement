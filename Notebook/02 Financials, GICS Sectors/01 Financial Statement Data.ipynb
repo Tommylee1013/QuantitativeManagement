{
 "cells": [
  {
   "metadata": {},
   "cell_type": "markdown",
   "source": [
    "## Financial Statements\n",
    "\n",
    "재무 데이터는 기업의 경영 성과와 재무 건전성을 평가하기 위해 공시되는 자료로, 주로 재무제표에서 도출된다. 가장 기본적인 형태는 손익계산서(Income Statement), 재무상태표(Balance Sheet), 현금흐름표(Cash Flow Statement)이며, 각각 기업의 수익성과 비용 구조, 자산과 부채의 구성, 그리고 실제 현금 유입과 유출을 보여준다. 이를 통해 투자자는 기업의 이익 창출 능력, 부채 비율, 유동성 수준, 현금창출력 등을 종합적으로 파악할 수 있다. 또한 주당순이익(EPS), 자기자본이익률(ROE), 부채비율(Debt Ratio) 등 재무 비율 분석 역시 재무 데이터의 중요한 활용 형태이다.\n",
    "\n",
    "그러나 재무 데이터에는 몇 가지 내재적 한계가 존재한다. \n",
    "\n",
    "- 첫째, 재무 데이터는 분기 혹은 연 단위로 공시되기 때문에 시의성이 부족하며, 빠르게 변하는 시장 상황을 즉각적으로 반영하지 못한다. \n",
    "- 둘째, 회계 기준과 기업의 재량적 판단에 따라 수치가 달라질 수 있어 비교 가능성과 신뢰성이 훼손될 수 있다. \n",
    "- 셋째, 재무 데이터는 과거 실적에 기반하기 때문에 미래의 성장 가능성이나 돌발적인 리스크를 충분히 설명하지 못한다. \n",
    "\n",
    "따라서 재무 데이터는 기업 분석의 출발점이자 기초 자료로 활용되지만, 단독으로는 한계가 있으며 시장 데이터, 산업 동향, 대체 데이터와 결합해 해석하는 것이 필요하다. 그럼에도 불구하고, 여전히 금융 데이터의 기본적인 형태로 확인하면 좋다.\n"
   ],
   "id": "dbf46aaab5be478b"
  },
  {
   "metadata": {},
   "cell_type": "markdown",
   "source": [
    "### 1. Financial Statement Data Source\n",
    "\n",
    "금융/경제 데이터는 대부분 유료로 구입해 사용해야 한다. 대표적으로 Bloomberg, Reuters가 있으며, 국내에서는 Data Guide, 한국경제 등이 데이터 밴더로 서비스를 운영중이다. 한편, 학습 및 연구 등 비영리적인 목적으로 사용가능한 데이터 밴더가 있는데, 이는 다음과 같다.\n",
    "\n",
    "| 데이터 소스                         | 커버리지          | 제공 범위                                                | 특징 및 한계                                                                 |\n",
    "|------------------------------------|-------------------|-------------------------------------------------------|----------------------------------------------------------------------------|\n",
    "| **DART (전자공시시스템, 한국)**        | 한국 상장기업       | 사업보고서, 분기·반기보고서, 재무제표(XBRL), 공시자료         | 무료, 오픈DART API 제공, 공시 시차 존재, 원시 데이터 가공 필요                 |\n",
    "| **EDGAR (SEC, 미국)**               | 미국 상장기업       | 10-K(연차보고서), 10-Q(분기보고서), 8-K(주요 공시), XBRL | 무료, 방대한 자료, API 지원, 원시 데이터 구조화 과정 필요                      |\n",
    "| **Yahoo Finance**                   | 글로벌 (미국/한국 포함) | 기본 재무제표(손익계산서, 재무상태표, 현금흐름표), 시가총액 등  | 무료, 파이썬 라이브러리 `yfinance` 활용 가능, 데이터 품질 불안정                |\n",
    "| **Google Finance**                  | 글로벌 (미국/한국 포함) | 주요 재무 지표(매출, 순익, 시총 등)                         | 무료, 웹 기반, API 공식 지원 없음, 제공 범위 단순                              |\n",
    "| **FinanceDataReader (Python 라이브러리)** | 한국/미국/글로벌 혼합 | 주가 및 일부 재무 데이터 (Naver Finance, Yahoo 기반)       | 무료, 설치 및 사용 용이, 데이터 범위 제한                                     |\n",
    "| **FRED (세인트루이스 연준)**           | 미국 + 글로벌 거시   | 거시경제 지표 (금리, GDP, 신용, 은행 재무 관련 지표 포함)    | 무료, 기업 개별 재무보다는 경제·금융 환경 데이터 중심                           |\n",
    "| **OpenDART API (한국)**              | 한국 상장기업       | 재무제표(XBRL), 사업보고서 항목별 추출 가능                 | 무료, 회원가입 후 API Key 필요, 초당 호출 제한 존재                            |\n",
    "| **SEC API (미국, EDGAR 기반)**        | 미국 상장기업       | 10-K/10-Q/XBRL 데이터 JSON 형태                          | 무료, EDGAR 데이터 활용, 구조화된 API 제공, 커버리지는 SEC 등록 기업 한정         |\n"
   ],
   "id": "4ed3cf8ac4efca22"
  },
  {
   "metadata": {},
   "cell_type": "markdown",
   "source": [
    "#### 1.1. DART\n",
    "\n",
    "한국의 상장기업 재무 데이터는 금융감독원이 운영하는 전자공시시스템(DART)을 통해 무료로 제공된다. OpenDART API는 기업의 사업보고서, 분기·반기보고서, 그리고 재무제표(XBRL 형식)를 손쉽게 수집할 수 있도록 설계되어 있으며, 회원가입을 통해 발급받은 API Key만 있으면 누구나 접근할 수 있다. 특히 삼성전자(005930)와 같은 특정 기업의 종목코드를 지정하고 보고서 유형(1분기, 반기, 3분기, 사업보고서)을 설정하면 해당 연도의 손익계산서, 재무상태표, 현금흐름표 데이터를 JSON 형태로 내려받을 수 있다. 이를 파이썬에서 `requests`와 `pandas` 라이브러리, 혹은 오픈소스 라이브러리인 `OpenDartReader`를 이용해 호출하고 DataFrame으로 변환하면, 학습자가 손쉽게 데이터를 가공·분석할 수 있다.  \n",
    "\n",
    "```bash\n",
    "pip install opendartreader\n",
    "```\n",
    "\n",
    "OpenDART API를 활용하면 DART 웹사이트에서 수동으로 보고서를 다운로드할 필요 없이 코드 한 줄로 구조화된 데이터를 얻을 수 있다는 장점이 있다. 다만, 공시 데이터는 공시 지연(latency)이 존재하며, XBRL 항목명을 정확히 이해해야 원하는 항목을 추출할 수 있다. 또한 API 호출에는 초당 요청 횟수 제한이 있기 때문에 대량의 기업 데이터를 수집할 경우 적절한 대기 시간을 두거나 데이터베이스에 순차적으로 적재하는 방식이 필요하다. 이러한 과정을 통해 한국 상장기업의 재무제표를 프로그래밍적으로 수집하고, 이를 바탕으로 재무 비율 계산, 기업 간 비교분석, 투자전략 수립 등의 실습을 체계적으로 진행할 수 있다.\n"
   ],
   "id": "6cbfd27d282982e7"
  },
  {
   "cell_type": "code",
   "id": "initial_id",
   "metadata": {
    "collapsed": true,
    "ExecuteTime": {
     "end_time": "2025-09-09T14:50:44.136888Z",
     "start_time": "2025-09-09T14:50:42.126329Z"
    }
   },
   "source": [
    "import OpenDartReader\n",
    "\n",
    "with open('../../config/dart_api.key') as file : \n",
    "    key = file.readline()\n",
    "\n",
    "dart = OpenDartReader(key)"
   ],
   "outputs": [],
   "execution_count": 11
  },
  {
   "metadata": {
    "ExecuteTime": {
     "end_time": "2025-09-09T14:51:53.290181Z",
     "start_time": "2025-09-09T14:51:39.423994Z"
    }
   },
   "cell_type": "code",
   "source": "dart.list('005930')",
   "id": "b49390b93630a550",
   "outputs": [
    {
     "data": {
      "text/plain": [
       "     corp_code corp_name stock_code corp_cls                     report_nm  \\\n",
       "0     00126380      삼성전자     005930        Y  최대주주등소유주식변동신고서                 \n",
       "1     00126380      삼성전자     005930        Y             주식등의대량보유상황보고서(일반)   \n",
       "2     00126380      삼성전자     005930        Y     대규모기업집단현황공시[분기별공시(대표회사용)]   \n",
       "3     00126380      삼성전자     005930        Y           임원ㆍ주요주주특정증권등소유상황보고서   \n",
       "4     00126380      삼성전자     005930        Y   지급수단별ㆍ지급기간별지급금액및분쟁조정기구에관한사항   \n",
       "...        ...       ...        ...      ...                           ...   \n",
       "6774  00126380      삼성전자     005930        Y                  채무보증(담보제공포함)   \n",
       "6775  00126380      삼성전자     005930        Y                 최대주주등을위한금전의대여   \n",
       "6776  00126380      삼성전자     005930        Y               감사보고서 (1999.12)   \n",
       "6777  00126380      삼성전자     005930        Y         [기재정정]반기보고서 (1999.06)   \n",
       "6778  00126380      삼성전자     005930        Y         [기재정정]사업보고서 (1998.12)   \n",
       "\n",
       "            rcept_no  flr_nm  rcept_dt rm  \n",
       "0     20250905800573    삼성전자  20250905  유  \n",
       "1     20250905000524    삼성물산  20250905     \n",
       "2     20250901000065    삼성전자  20250901  공  \n",
       "3     20250818000049     최병희  20250818     \n",
       "4     20250814004256    삼성전자  20250814  공  \n",
       "...              ...     ...       ... ..  \n",
       "6774  20000404000429    삼성전자  20000404     \n",
       "6775  20000401000031    삼성전자  20000401     \n",
       "6776  20000320000124  삼일회계법인  20000320     \n",
       "6777  19990824000003    삼성전자  19990824     \n",
       "6778  19990626000007    삼성전자  19990626  연  \n",
       "\n",
       "[6779 rows x 9 columns]"
      ],
      "text/html": [
       "<div>\n",
       "<style scoped>\n",
       "    .dataframe tbody tr th:only-of-type {\n",
       "        vertical-align: middle;\n",
       "    }\n",
       "\n",
       "    .dataframe tbody tr th {\n",
       "        vertical-align: top;\n",
       "    }\n",
       "\n",
       "    .dataframe thead th {\n",
       "        text-align: right;\n",
       "    }\n",
       "</style>\n",
       "<table border=\"1\" class=\"dataframe\">\n",
       "  <thead>\n",
       "    <tr style=\"text-align: right;\">\n",
       "      <th></th>\n",
       "      <th>corp_code</th>\n",
       "      <th>corp_name</th>\n",
       "      <th>stock_code</th>\n",
       "      <th>corp_cls</th>\n",
       "      <th>report_nm</th>\n",
       "      <th>rcept_no</th>\n",
       "      <th>flr_nm</th>\n",
       "      <th>rcept_dt</th>\n",
       "      <th>rm</th>\n",
       "    </tr>\n",
       "  </thead>\n",
       "  <tbody>\n",
       "    <tr>\n",
       "      <th>0</th>\n",
       "      <td>00126380</td>\n",
       "      <td>삼성전자</td>\n",
       "      <td>005930</td>\n",
       "      <td>Y</td>\n",
       "      <td>최대주주등소유주식변동신고서</td>\n",
       "      <td>20250905800573</td>\n",
       "      <td>삼성전자</td>\n",
       "      <td>20250905</td>\n",
       "      <td>유</td>\n",
       "    </tr>\n",
       "    <tr>\n",
       "      <th>1</th>\n",
       "      <td>00126380</td>\n",
       "      <td>삼성전자</td>\n",
       "      <td>005930</td>\n",
       "      <td>Y</td>\n",
       "      <td>주식등의대량보유상황보고서(일반)</td>\n",
       "      <td>20250905000524</td>\n",
       "      <td>삼성물산</td>\n",
       "      <td>20250905</td>\n",
       "      <td></td>\n",
       "    </tr>\n",
       "    <tr>\n",
       "      <th>2</th>\n",
       "      <td>00126380</td>\n",
       "      <td>삼성전자</td>\n",
       "      <td>005930</td>\n",
       "      <td>Y</td>\n",
       "      <td>대규모기업집단현황공시[분기별공시(대표회사용)]</td>\n",
       "      <td>20250901000065</td>\n",
       "      <td>삼성전자</td>\n",
       "      <td>20250901</td>\n",
       "      <td>공</td>\n",
       "    </tr>\n",
       "    <tr>\n",
       "      <th>3</th>\n",
       "      <td>00126380</td>\n",
       "      <td>삼성전자</td>\n",
       "      <td>005930</td>\n",
       "      <td>Y</td>\n",
       "      <td>임원ㆍ주요주주특정증권등소유상황보고서</td>\n",
       "      <td>20250818000049</td>\n",
       "      <td>최병희</td>\n",
       "      <td>20250818</td>\n",
       "      <td></td>\n",
       "    </tr>\n",
       "    <tr>\n",
       "      <th>4</th>\n",
       "      <td>00126380</td>\n",
       "      <td>삼성전자</td>\n",
       "      <td>005930</td>\n",
       "      <td>Y</td>\n",
       "      <td>지급수단별ㆍ지급기간별지급금액및분쟁조정기구에관한사항</td>\n",
       "      <td>20250814004256</td>\n",
       "      <td>삼성전자</td>\n",
       "      <td>20250814</td>\n",
       "      <td>공</td>\n",
       "    </tr>\n",
       "    <tr>\n",
       "      <th>...</th>\n",
       "      <td>...</td>\n",
       "      <td>...</td>\n",
       "      <td>...</td>\n",
       "      <td>...</td>\n",
       "      <td>...</td>\n",
       "      <td>...</td>\n",
       "      <td>...</td>\n",
       "      <td>...</td>\n",
       "      <td>...</td>\n",
       "    </tr>\n",
       "    <tr>\n",
       "      <th>6774</th>\n",
       "      <td>00126380</td>\n",
       "      <td>삼성전자</td>\n",
       "      <td>005930</td>\n",
       "      <td>Y</td>\n",
       "      <td>채무보증(담보제공포함)</td>\n",
       "      <td>20000404000429</td>\n",
       "      <td>삼성전자</td>\n",
       "      <td>20000404</td>\n",
       "      <td></td>\n",
       "    </tr>\n",
       "    <tr>\n",
       "      <th>6775</th>\n",
       "      <td>00126380</td>\n",
       "      <td>삼성전자</td>\n",
       "      <td>005930</td>\n",
       "      <td>Y</td>\n",
       "      <td>최대주주등을위한금전의대여</td>\n",
       "      <td>20000401000031</td>\n",
       "      <td>삼성전자</td>\n",
       "      <td>20000401</td>\n",
       "      <td></td>\n",
       "    </tr>\n",
       "    <tr>\n",
       "      <th>6776</th>\n",
       "      <td>00126380</td>\n",
       "      <td>삼성전자</td>\n",
       "      <td>005930</td>\n",
       "      <td>Y</td>\n",
       "      <td>감사보고서 (1999.12)</td>\n",
       "      <td>20000320000124</td>\n",
       "      <td>삼일회계법인</td>\n",
       "      <td>20000320</td>\n",
       "      <td></td>\n",
       "    </tr>\n",
       "    <tr>\n",
       "      <th>6777</th>\n",
       "      <td>00126380</td>\n",
       "      <td>삼성전자</td>\n",
       "      <td>005930</td>\n",
       "      <td>Y</td>\n",
       "      <td>[기재정정]반기보고서 (1999.06)</td>\n",
       "      <td>19990824000003</td>\n",
       "      <td>삼성전자</td>\n",
       "      <td>19990824</td>\n",
       "      <td></td>\n",
       "    </tr>\n",
       "    <tr>\n",
       "      <th>6778</th>\n",
       "      <td>00126380</td>\n",
       "      <td>삼성전자</td>\n",
       "      <td>005930</td>\n",
       "      <td>Y</td>\n",
       "      <td>[기재정정]사업보고서 (1998.12)</td>\n",
       "      <td>19990626000007</td>\n",
       "      <td>삼성전자</td>\n",
       "      <td>19990626</td>\n",
       "      <td>연</td>\n",
       "    </tr>\n",
       "  </tbody>\n",
       "</table>\n",
       "<p>6779 rows × 9 columns</p>\n",
       "</div>"
      ]
     },
     "execution_count": 13,
     "metadata": {},
     "output_type": "execute_result"
    }
   ],
   "execution_count": 13
  },
  {
   "metadata": {},
   "cell_type": "markdown",
   "source": [
    "#### 1.2 EDGAR\n",
    "\n",
    "미국 상장기업의 재무 데이터는 SEC(미국 증권거래위원회)가 운영하는 EDGAR(Electronic Data Gathering, Analysis, and Retrieval) 시스템을 통해 무료로 제공된다. EDGAR에는 모든 상장기업이 의무적으로 제출하는 10-K(연차보고서), 10-Q(분기보고서), 8-K(주요 사건 공시) 등의 자료가 축적되어 있으며, 최근에는 XBRL(Extensible Business Reporting Language) 형식으로 구조화된 재무제표 데이터를 제공하고 있다. 이를 통해 **손익계산서, 재무상태표, 현금흐름표** 와 같은 핵심 정보를 기계적으로 수집하고 분석할 수 있다.  \n",
    "\n",
    "EDGAR는 한국의 DART와 달리 API Key 발급 절차 없이 누구나 접근할 수 있지만, SEC는 이용자 식별을 위해 User-Agent 헤더에 애플리케이션 이름과 이메일 주소를 반드시 포함하도록 규정하고 있다. 또한 방대한 데이터가 JSON 형식으로 제공되기 때문에 파이썬의 `requests`와 `pandas`를 활용하면 손쉽게 DataFrame 형태로 변환할 수 있다. 다만, 데이터 항목명이 XBRL 표준을 따르기 때문에 원하는 항목을 정확히 지정해야 하고, 분기와 연간 보고서를 구분하기 위해 제출 문서 종류(10-K, 10-Q)를 필터링하는 과정이 필요하다. 이러한 절차를 거치면 EDGAR를 활용해 애플(AAPL)과 같은 글로벌 기업의 재무 데이터를 정량적으로 분석할 수 있다."
   ],
   "id": "122165b105ab67df"
  },
  {
   "metadata": {
    "ExecuteTime": {
     "end_time": "2025-09-09T15:26:34.634920Z",
     "start_time": "2025-09-09T15:26:34.625602Z"
    }
   },
   "cell_type": "code",
   "source": [
    "import requests\n",
    "import pandas as pd\n",
    "from datetime import datetime\n",
    "from time import sleep\n",
    "\n",
    "HEADERS = {\n",
    "    \"User-Agent\": \"Thomas Lee (junghun1013@icloud.com)\"\n",
    "} # 필수로 등록 필요\n",
    "\n",
    "# AAPL CIK \n",
    "CIK = \"0000320193\" \n",
    "\n",
    "BASE = \"https://data.sec.gov/api/xbrl/companyconcept\""
   ],
   "id": "30624dbd52314e3a",
   "outputs": [],
   "execution_count": 14
  },
  {
   "metadata": {},
   "cell_type": "code",
   "outputs": [],
   "execution_count": null,
   "source": [
    "def fetch_concept_df(cik: str, taxonomy: str, concept: str, unit: str = \"USD\") -> pd.DataFrame:\n",
    "    \"\"\"\n",
    "    EDGAR companyconcept API에서 특정 XBRL 항목을 DataFrame으로 반환.\n",
    "    \"\"\"\n",
    "    url = f\"{BASE}/CIK{cik}/{taxonomy}/{concept}.json\"\n",
    "    r = requests.get(url, headers=HEADERS, timeout=30)\n",
    "    r.raise_for_status()\n",
    "    j = r.json()\n",
    "\n",
    "    # 단위(unit)별 시계열 중 USD만 사용 \n",
    "    vals = j[\"units\"][unit]\n",
    "    df = pd.DataFrame(vals)\n",
    "\n",
    "    # end/val/form/fy/fp 등 컬럼 정리\n",
    "    if \"end\" in df.columns:\n",
    "        df[\"end\"] = pd.to_datetime(df[\"end\"])\n",
    "    if \"filed\" in df.columns:\n",
    "        df[\"filed\"] = pd.to_datetime(df[\"filed\"])\n",
    "\n",
    "    df.rename(columns={\"val\": concept}, inplace=True)\n",
    "    return df\n"
   ],
   "id": "2e3003e168897084"
  },
  {
   "metadata": {},
   "cell_type": "markdown",
   "source": [
    "### 2. Fundamental Statement Data\n",
    "\n",
    "재무제표는 기업을 수치로 “읽는” 기본 도구로서 손익계산서(Income Statement), 대차대조표(Balance Sheet), 현금흐름표(Cash Flow Statement) 세 축으로 구성되어 기업의 수익성·재무건전성·현금창출력을 각각 다른 관점에서 제공한다. "
   ],
   "id": "116da989d02ed680"
  },
  {
   "metadata": {},
   "cell_type": "code",
   "outputs": [],
   "execution_count": null,
   "source": "",
   "id": "6595635ee97bbf5e"
  },
  {
   "metadata": {},
   "cell_type": "markdown",
   "source": [
    "#### 2.1 Income Satetment\n",
    "\n",
    "손익계산서는 일정 기간(분기·연간)의 수익·비용·이익을 기록하여 영업성과의 동학을 보여준다. 매출(Revenue)에서 출발해 매출원가(COGS)를 제외한 매출총이익(Gross Profit), 판매관리비·R&D를 반영한 영업이익(Operating Income / EBIT), 감가상각·상각(D&A)을 제외·포함한 항목, 이자·법인세를 적용한 당기순이익(Net Income)에 이르기까지 단계별로 마진 구조와 수익성 드라이버를 진단할 수 있다. 특히 영업이익은 본업의 수익력을, 영업외·비반복 항목은 일시적 사건(자산매각·구조조정 등)을 나타내므로 영속적 이익과 분리해 분석해야 한다."
   ],
   "id": "b4ad655740a86338"
  },
  {
   "metadata": {},
   "cell_type": "code",
   "outputs": [],
   "execution_count": null,
   "source": "",
   "id": "bb4e22ea0acec860"
  },
  {
   "metadata": {},
   "cell_type": "markdown",
   "source": [
    "#### 2.2 Balance Sheet\n",
    "\n",
    "대차대조표는 특정 시점의 자산·부채·자본을 보여주어 재무구조와 유동성의 스냅샷을 제공한다. 유동자산(현금·단기투자·매출채권·재고)은 단기지급능력을, 유동부채(매입채무·단기차입)는 단기지급의무를 나타내며 이를 통해 유동비율·당좌비율 같은 유동성 지표를 계산한다. 비유동자산(유형자산·무형자산·장기투자)은 장기 성장능력·감가정책을 반영하고, 총부채·순부채(총부채 − 현금)는 레버리지·자본구조 판단의 핵심이다. 또한 자본(Shareholders’ Equity)은 납입자본·이익잉여금·기타포괄손익누계액 등으로 구성되어 장부가치(Book Value)의 근거가 되며, 회계적 처리(공정가치 평가, 연결범위, 리스회계 등)에 따라 장부가치의 경제적 의미가 달라질 수 있으므로 주석(Notes)을 반드시 확인해야 한다."
   ],
   "id": "dc40bf4b233393ad"
  },
  {
   "metadata": {},
   "cell_type": "code",
   "outputs": [],
   "execution_count": null,
   "source": "",
   "id": "69191fd7e4d944fc"
  },
  {
   "metadata": {},
   "cell_type": "markdown",
   "source": [
    "#### 2.3 Cash Flow\n",
    "\n",
    "현금흐름표는 기업의 ‘현금’이라는 실체를 보여주며 세 영역으로 나뉜다. 영업활동현금흐름(CFO)은 영업에서 실제 생성된 현금으로 배당·부채상환·재투자 여력을 직접적으로 말해준다. 투자활동현금흐름은 CapEx(설비투자)·사업인수·유가증권 매입 등을 통해 성장투자 규모를 보여주며, 재무활동현금흐름은 차입·상환·주주환원(배당·자사주) 등 자본정책을 반영한다. 잉여현금흐름(FCF = CFO − CapEx)은 기업의 진짜 ‘잉여’ 현금창출력을 나타내어 배당지속성·부채감축능력을 평가하는 데 핵심적이다. 실무에서는 비현금 항목(감가상각·충당금), 운전자본 변화, 일회성 현금흐름을 분리·조정하여 지속적 현금창출능력을 추정한다.\n",
    "실제 분석에서는 (1) 기간 일관성(LTM vs FY vs Forward), (2) 희석 여부(Diluted vs Basic), (3) 회계조정(일회성·소송·정상화), (4) 연결범위(Consolidated vs Parent-only), (5) 오프밸런스 항목(리스·파생·우발채무) 등을 점검해야 한다. 연구·백테스트 목적이라면 재분류(reclassification)와 회계정책 변경 이력도 반영하여 시계열의 불연속성이 결과를 왜곡하지 않도록 관리해야 한다."
   ],
   "id": "29f9fa2b9fc84a20"
  },
  {
   "metadata": {},
   "cell_type": "code",
   "outputs": [],
   "execution_count": null,
   "source": "",
   "id": "bf6e9c6a2e129ee0"
  },
  {
   "metadata": {},
   "cell_type": "markdown",
   "source": [
    "### 3. Additional Information\n",
    "\n",
    "정기공시의 주석 비중, 인수·합병 관련 공시, 배당정책의 변화, 손상 등은 서로 다른 형태의 정보이지만 하나의 공통된 역할을 한다. 재무제표가 보여주는 결과 뒤에 숨은 불확실성의 원인과 향후 현금흐름·재무구조의 변화 가능성을 드러낼 수도 있고, 계량화가 미쳐 되지 않는 정보들이 산재해 있기 때문이다. 전체 공시에서 주석이 길어지면 설명해야 할 불확실성이 커졌을 가능성이 있고, M&A 공시는 자금조달·희석·통합리스크를 즉각적으로 바꿀 수 있으며, 배당 축소는 현금압박 또는 우선순위 변경을 암시하고, 대규모 손상은 장기적 수익성·자산가치의 재평가를 의미한다.\n",
    "\n",
    "따라서 이들 신호는 개별적으로도 유용하지만 서로 결합해서 해석할 때 더 강한 사전경고(pre-event) 신호를 준다. 다만 정상적 사업확장(예: 합병 관련 주석 증가)처럼 합리적 원인도 있으므로 절대값보다 섹터·히스토리 대비 상대적 변동을 보고, 정량지표(유동성·CFO·부채만기)와 교차검증하여 보조신호로 활용해야 실무적 효용을 얻는다."
   ],
   "id": "e9de59f25fa43d02"
  },
  {
   "metadata": {},
   "cell_type": "code",
   "outputs": [],
   "execution_count": null,
   "source": "",
   "id": "9f396a2c79c3fe6a"
  },
  {
   "metadata": {},
   "cell_type": "markdown",
   "source": [
    "#### 3.1 Footnote Ratio\n",
    "\n",
    "기업이 제출하는 정기공시의 주석의 길이는 재무제표의 숫자가 표현하지 못하는 위험을 추정하는 지표가 될 수 있다. 리스크를 본표(손익·대차·현금흐름)가 ‘무엇이’ 발생했는지를 보여준다면, 주석과 특별공시는 ‘왜’와 ‘어떻게’가 쓰여 있는 곳이다. 주석의 분량 자체가 증가하거나 재무관련 주석이 대차대조표 대비 비중 있게 늘어나는 현상은 경영진이 투자자·채권자·감독당국에 대해 설명해야 할 사안이 많아졌음을 시사한다. 설명해야 할 사안이 많다는 것은 단순히 기업활동이 복잡해졌다는 의미일 수도 있지만, 동시에 우발채무·복잡한 파생계약·회계정책의 변화 등으로 인해 미래 현금흐름과 리스크 프로필이 불확실해졌을 가능성을 내포한다. 따라서 주석 비중은 ‘불확실성의 양적 표지’로서 빠른 스크리닝 신호 역할을 할 수 있다."
   ],
   "id": "cd854b5aa9685a7"
  },
  {
   "metadata": {},
   "cell_type": "code",
   "outputs": [],
   "execution_count": null,
   "source": "",
   "id": "367027828bbc0c03"
  },
  {
   "metadata": {},
   "cell_type": "markdown",
   "source": [
    "#### 3.2 M&A\n",
    "\n",
    "인수·합병(M&A) 관련 공시는 기업의 재무·경영 구조를 단기간에 크게 재편할 수 있는 이벤트이므로 특히 중요하다. 합병·인수는 인수대금의 조달 방식(현금·주식·채무), 거래규모(시가총액 대비 비율), 거래대상(유·무형자산 포함), 시너지만큼이나 통합 실패 리스크를 동반한다. \n",
    "\n",
    "주주총회 소집공고나 LOI·계약서 공시 등은 거래 성사 가능성의 선행 신호이므로, 공시에서 해당 문구가 등장하는 순간부터 자금흐름·부채만기·희석 가능성 등을 재평가해야 한다. 특히 현금성 대금 비중이 높고 회사의 유동성 여건이 약하면 단기적 유동성 압박과 신용리스크가 커질 수 있다."
   ],
   "id": "691a55ce1b10ea86"
  },
  {
   "metadata": {},
   "cell_type": "code",
   "outputs": [],
   "execution_count": null,
   "source": "",
   "id": "3059b0a5ca0da737"
  },
  {
   "metadata": {},
   "cell_type": "markdown",
   "source": [
    "#### 3.3 Dividend\n",
    "\n",
    "배당정책의 변화는 기업의 자본배분과 현금흐름의 신뢰도를 직접 보여주는 지표다. 배당 감액·중단 또는 특별배당의 발표는 그 자체가 경영진의 현금 여력 판단과 전략적 우선순위의 신호이다. 감액배당은 자주 현금압박·수익성 악화·미래 투자 우선순위 변경의 전조이며, 반대로 예기치 않은 특별배당은 잉여현금의 일시적 출구를 의미한다. 특히 배당정책 변화는 소유구조(대주주 성향), 세제 변화, 규제 리스크와도 얽혀 있어 공시 문맥을 통해 그 배경을 해석해야만 경제적 의미를 올바르게 이해할 수 있다."
   ],
   "id": "bb0700c1f28a86da"
  },
  {
   "metadata": {},
   "cell_type": "code",
   "outputs": [],
   "execution_count": null,
   "source": "",
   "id": "fc92b0dba2ef2777"
  },
  {
   "metadata": {},
   "cell_type": "markdown",
   "source": [
    "#### 3.4 Impairment\n",
    "\n",
    "손상(impairment)은 회계상의 조정에 그치지 않고 기업의 장기 현금창출력과 자산가치의 재평가를 의미한다. 대규모 영업권·무형자산 손상이나 감액 공시는 해당 사업부의 장기적 수익성 악화 또는 미래현금흐름 예측의 하향을 반영한다. 손상은 종종 경영진의 전략적 실수, 시장구조의 변화, 기술적 진부화, 또는 경기후퇴의 결과로 나타나며, 손상 공시 직후에는 이익의 질과 이후 현금흐름 복원 가능성에 대한 재평가가 필요하다. 또한 손상은 회계 시점의 판단이 개입되는 항목이므로 주석에 적혀 있는 가정(할인율, 성장률, 영업단위 정의 등)을 반드시 검토해야 한다."
   ],
   "id": "8fda039fdefafe6c"
  },
  {
   "metadata": {},
   "cell_type": "code",
   "outputs": [],
   "execution_count": null,
   "source": "",
   "id": "579144f5c5e06655"
  }
 ],
 "metadata": {
  "kernelspec": {
   "display_name": "Python 3",
   "language": "python",
   "name": "python3"
  },
  "language_info": {
   "codemirror_mode": {
    "name": "ipython",
    "version": 2
   },
   "file_extension": ".py",
   "mimetype": "text/x-python",
   "name": "python",
   "nbconvert_exporter": "python",
   "pygments_lexer": "ipython2",
   "version": "2.7.6"
  }
 },
 "nbformat": 4,
 "nbformat_minor": 5
}
